{
 "cells": [
  {
   "cell_type": "markdown",
   "id": "77b3c79f",
   "metadata": {},
   "source": [
    "# PIG GAME\n",
    "# Piotr Skiba"
   ]
  },
  {
   "cell_type": "markdown",
   "id": "b11cd692",
   "metadata": {},
   "source": [
    "### Kod"
   ]
  },
  {
   "cell_type": "code",
   "execution_count": 5,
   "id": "ef3c2727",
   "metadata": {},
   "outputs": [],
   "source": [
    "from random import randint as rint\n",
    "\n",
    "winner_result = 100\n",
    "matches = {\n",
    "    'Alicja': 0,\n",
    "    'Piotr': 0\n",
    "}\n",
    "\n",
    "def dices():\n",
    "    dice = [rint(1,6), rint(1,6)]\n",
    "    return dice\n",
    "\n",
    "\n",
    "def alicja(konto_alicji, konto_piotra):\n",
    "    suma = 0\n",
    "    if konto_piotra >= winner_result:\n",
    "        global matches\n",
    "        matches[\"Piotr\"] += 1\n",
    "        return f\"Piotr Wygrał z wynikiem {konto_piotra}\"\n",
    "    if konto_alicji < konto_piotra:\n",
    "        for i in range(3):\n",
    "            chance = dices()\n",
    "            if 1 in chance:\n",
    "                suma = 0\n",
    "                break\n",
    "            else:\n",
    "                suma += sum(chance)\n",
    "        konto_alicji += suma\n",
    "    else:\n",
    "        for i in range(2):\n",
    "            chance = dices()\n",
    "            if 1 in chance:\n",
    "                suma = 0\n",
    "                break\n",
    "            else:\n",
    "                suma += sum(chance)\n",
    "        konto_alicji += suma\n",
    "    return piotr(konto_piotra, konto_alicji)\n",
    "\n",
    "\n",
    "def piotr(konto_piotra, konto_alicji):\n",
    "    suma = 0\n",
    "    if konto_alicji >= winner_result:\n",
    "        global matches\n",
    "        matches['Alicja'] += 1\n",
    "        return f\"Alicja Wygrała z wynikiem {konto_alicji}\"\n",
    "    for i in range(3):\n",
    "        chance = dices()\n",
    "        if 1 in chance:\n",
    "            suma = 0\n",
    "            break\n",
    "        else:\n",
    "            suma += sum(chance)\n",
    "    konto_piotra += suma\n",
    "    return alicja(konto_alicji, konto_piotra)"
   ]
  },
  {
   "cell_type": "code",
   "execution_count": 6,
   "id": "ba93213f",
   "metadata": {},
   "outputs": [
    {
     "name": "stdout",
     "output_type": "stream",
     "text": [
      "Alicja ma wynik 569\n",
      "Piotr ma wynik 431\n"
     ]
    }
   ],
   "source": [
    "for i in range(1000):\n",
    "    alicja(konto_alicji = 0, konto_piotra = 0)\n",
    "\n",
    "for i in list(matches.items()):\n",
    "    print(f\"{i[0]} ma wynik {i[1]}\")"
   ]
  },
  {
   "cell_type": "markdown",
   "id": "8b7b1655",
   "metadata": {},
   "source": [
    "### Wnioski"
   ]
  },
  {
   "cell_type": "markdown",
   "id": "7d3dcdda",
   "metadata": {},
   "source": [
    "Z serii rozgrywek które odbyły się pomiędzy Alicją i Piotrem można wywnioskować że strategia Alicjii jest wydajniejsza.\n",
    "Przy małych wartościach można tego nie zauważyć, natomiast gdy damy przykładowe 1000 rozgrywek to widać że Alicja ma przewagę nawet po wielu powtórzeniach."
   ]
  },
  {
   "cell_type": "code",
   "execution_count": null,
   "id": "4d9818af",
   "metadata": {},
   "outputs": [],
   "source": []
  }
 ],
 "metadata": {
  "kernelspec": {
   "display_name": "Python 3 (ipykernel)",
   "language": "python",
   "name": "python3"
  },
  "language_info": {
   "codemirror_mode": {
    "name": "ipython",
    "version": 3
   },
   "file_extension": ".py",
   "mimetype": "text/x-python",
   "name": "python",
   "nbconvert_exporter": "python",
   "pygments_lexer": "ipython3",
   "version": "3.9.12"
  }
 },
 "nbformat": 4,
 "nbformat_minor": 5
}
